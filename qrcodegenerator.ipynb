{
 "cells": [
  {
   "cell_type": "code",
   "execution_count": 1,
   "id": "b3ad0efe",
   "metadata": {},
   "outputs": [
    {
     "name": "stdout",
     "output_type": "stream",
     "text": [
      "Requirement already satisfied: qrcode in c:\\users\\harry\\miniconda3\\lib\\site-packages (7.4.2)\n",
      "Requirement already satisfied: pillow in c:\\users\\harry\\miniconda3\\lib\\site-packages (9.3.0)\n",
      "Requirement already satisfied: colorama in c:\\users\\harry\\miniconda3\\lib\\site-packages (from qrcode) (0.4.6)\n",
      "Requirement already satisfied: pypng in c:\\users\\harry\\miniconda3\\lib\\site-packages (from qrcode) (0.20220715.0)\n",
      "Requirement already satisfied: typing-extensions in c:\\users\\harry\\miniconda3\\lib\\site-packages (from qrcode) (4.4.0)\n",
      "Note: you may need to restart the kernel to use updated packages.\n"
     ]
    },
    {
     "name": "stderr",
     "output_type": "stream",
     "text": [
      "WARNING: Ignoring invalid distribution -ensorflow-intel (c:\\users\\harry\\appdata\\roaming\\python\\python39\\site-packages)\n",
      "WARNING: Ignoring invalid distribution -ensorflow-intel (c:\\users\\harry\\appdata\\roaming\\python\\python39\\site-packages)\n",
      "WARNING: Ignoring invalid distribution -ensorflow-intel (c:\\users\\harry\\appdata\\roaming\\python\\python39\\site-packages)\n",
      "WARNING: Ignoring invalid distribution -ensorflow-intel (c:\\users\\harry\\appdata\\roaming\\python\\python39\\site-packages)\n",
      "WARNING: Ignoring invalid distribution -ensorflow-intel (c:\\users\\harry\\appdata\\roaming\\python\\python39\\site-packages)\n",
      "WARNING: Ignoring invalid distribution -ensorflow-intel (c:\\users\\harry\\appdata\\roaming\\python\\python39\\site-packages)\n"
     ]
    }
   ],
   "source": [
    "pip install qrcode pillow"
   ]
  },
  {
   "cell_type": "code",
   "execution_count": 6,
   "id": "da6c62fc",
   "metadata": {},
   "outputs": [],
   "source": [
    "# Import modules\n",
    "import qrcode\n",
    "from PIL import Image\n",
    "\n",
    "# Set URLs for QR codes\n",
    "githubURL = 'https://github.com/hrdance'\n",
    "linkedinURL = 'https://www.linkedin.com/in/harrydance'\n",
    "\n",
    "# Set colour for QR codes\n",
    "colour = 'Black'"
   ]
  },
  {
   "cell_type": "code",
   "execution_count": 7,
   "id": "4afb2f21",
   "metadata": {},
   "outputs": [
    {
     "name": "stderr",
     "output_type": "stream",
     "text": [
      "C:\\Users\\harry\\AppData\\Local\\Temp\\ipykernel_28836\\3619244118.py:11: DeprecationWarning: ANTIALIAS is deprecated and will be removed in Pillow 10 (2023-07-01). Use Resampling.LANCZOS instead.\n",
      "  logo = logo.resize((basewidth, hsize), Image.ANTIALIAS)\n"
     ]
    }
   ],
   "source": [
    "# Logo for centre of QR code\n",
    "logo_link = 'github.png'\n",
    "logo = Image.open(logo_link)\n",
    "\n",
    "# Choose base width\n",
    "basewidth = 100\n",
    "\n",
    "# Adjust image size\n",
    "wpercent = (basewidth/float(logo.size[0]))\n",
    "hsize = int((float(logo.size[1])*float(wpercent)))\n",
    "logo = logo.resize((basewidth, hsize), Image.ANTIALIAS)\n",
    "QRcode = qrcode.QRCode(error_correction=qrcode.constants.ERROR_CORRECT_H)\n",
    "\n",
    "# Add URL to QRcode\n",
    "QRcode.add_data(githubURL)\n",
    "\n",
    "# Generate QR code\n",
    "QRcode.make()\n",
    "\n",
    "# Set colour of QR code\n",
    "QRimg = QRcode.make_image(fill_color=colour, back_color='white').convert('RGB')\n",
    "\n",
    "# Set size of QR code\n",
    "pos = ((QRimg.size[0] - logo.size[0]) // 2,\n",
    "       (QRimg.size[1] - logo.size[1]) // 2)\n",
    "QRimg.paste(logo, pos)\n",
    "\n",
    "# Save the generated QR code\n",
    "QRimg.save('githubQR.png')"
   ]
  },
  {
   "cell_type": "code",
   "execution_count": 8,
   "id": "227c8164",
   "metadata": {},
   "outputs": [
    {
     "name": "stdout",
     "output_type": "stream",
     "text": [
      "QR code generated!\n"
     ]
    },
    {
     "name": "stderr",
     "output_type": "stream",
     "text": [
      "C:\\Users\\harry\\AppData\\Local\\Temp\\ipykernel_28836\\2700378232.py:11: DeprecationWarning: ANTIALIAS is deprecated and will be removed in Pillow 10 (2023-07-01). Use Resampling.LANCZOS instead.\n",
      "  logo = logo.resize((basewidth, hsize), Image.ANTIALIAS)\n"
     ]
    }
   ],
   "source": [
    "# Logo for centre of QR code\n",
    "logo_link = 'linkedin.png'\n",
    "logo = Image.open(logo_link)\n",
    "\n",
    "# Choose base width\n",
    "basewidth = 100\n",
    "\n",
    "# Adjust image size\n",
    "wpercent = (basewidth/float(logo.size[0]))\n",
    "hsize = int((float(logo.size[1])*float(wpercent)))\n",
    "logo = logo.resize((basewidth, hsize), Image.ANTIALIAS)\n",
    "QRcode = qrcode.QRCode(error_correction=qrcode.constants.ERROR_CORRECT_H)\n",
    "\n",
    "# Add URL to QR code\n",
    "QRcode.add_data(linkedinURL)\n",
    "\n",
    "# Generate QR code\n",
    "QRcode.make()\n",
    "\n",
    "# Set colour of QR code\n",
    "QRimg = QRcode.make_image(fill_color=colour, back_color='white').convert('RGB')\n",
    "\n",
    "# Set size of QR code\n",
    "pos = ((QRimg.size[0] - logo.size[0]) // 2,\n",
    "       (QRimg.size[1] - logo.size[1]) // 2)\n",
    "QRimg.paste(logo, pos)\n",
    "\n",
    "# Save the generated QR code\n",
    "QRimg.save('linkedinQR.png')\n",
    "\n",
    "print('QR code generated!')"
   ]
  }
 ],
 "metadata": {
  "kernelspec": {
   "display_name": "Python 3 (ipykernel)",
   "language": "python",
   "name": "python3"
  },
  "language_info": {
   "codemirror_mode": {
    "name": "ipython",
    "version": 3
   },
   "file_extension": ".py",
   "mimetype": "text/x-python",
   "name": "python",
   "nbconvert_exporter": "python",
   "pygments_lexer": "ipython3",
   "version": "3.9.16"
  }
 },
 "nbformat": 4,
 "nbformat_minor": 5
}
